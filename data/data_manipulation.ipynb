{
 "cells": [
  {
   "cell_type": "markdown",
   "metadata": {},
   "source": [
    "Quick scripts to manipulate data after it's been downloaded"
   ]
  },
  {
   "cell_type": "code",
   "execution_count": 7,
   "metadata": {},
   "outputs": [],
   "source": [
    "from PIL import Image\n",
    "from glob import glob\n",
    "from tqdm import tqdm\n",
    "import os\n",
    "from shutil import copyfile, move"
   ]
  },
  {
   "cell_type": "markdown",
   "metadata": {},
   "source": [
    "Create version of data without ratings of 0,\n",
    "since 0 ratings seem to be political jokes, not actual room ratings"
   ]
  },
  {
   "cell_type": "code",
   "execution_count": 14,
   "metadata": {},
   "outputs": [],
   "source": [
    "os.mkdir('../data/rated_images_no0/')"
   ]
  },
  {
   "cell_type": "code",
   "execution_count": 101,
   "metadata": {},
   "outputs": [],
   "source": [
    "for imname in dataset.imnames:\n",
    "    rating = imname.split(\"_\")[-1]\n",
    "    rating = int(rating.split(\".\")[0])\n",
    "    if rating > 0:\n",
    "        name = imname.split('/')[-1]\n",
    "        copyfile(imname, '../data/rated_images_no0/' + name)"
   ]
  },
  {
   "cell_type": "markdown",
   "metadata": {},
   "source": [
    "Create low-res version (32x32 instead of 128x128).\n",
    "Trained performance seems significantly lower, but may still be useful for experiments."
   ]
  },
  {
   "cell_type": "code",
   "execution_count": 5,
   "metadata": {},
   "outputs": [
    {
     "name": "stderr",
     "output_type": "stream",
     "text": [
      "100%|██████████| 3011/3011 [00:40<00:00, 74.97it/s]\n"
     ]
    }
   ],
   "source": [
    "odir = 'rated_ims_lowres_no0/'\n",
    "for imname in tqdm(glob('rated_images_no0/*.png')):\n",
    "    im = Image.open(imname)\n",
    "    im = im.resize((32, 32))\n",
    "    name = imname.split('/')[-1]\n",
    "    im.save(odir + name)"
   ]
  },
  {
   "cell_type": "markdown",
   "metadata": {},
   "source": [
    "Split into train/test folders\n",
    "\n",
    "I'll train off older tweets (higher numbers) and test on more recent"
   ]
  },
  {
   "cell_type": "code",
   "execution_count": 15,
   "metadata": {},
   "outputs": [],
   "source": [
    "def test_train_split(folder, split = 1/4):\n",
    "    \"\"\"\n",
    "    Move all images in folder into sub-folders train and test\n",
    "    Split is the fraction of images moved to test\n",
    "    Test uses the most recent tweets, train tweets are older\n",
    "    \"\"\"\n",
    "    for name in ['test', 'train']:\n",
    "        os.mkdir(os.path.join(folder, name))\n",
    "    fnames = sorted(glob(os.path.join(folder, '*.png')))\n",
    "    l_test = int(len(fnames) * split)\n",
    "    for fname in fnames[:l_test]:\n",
    "        name = fname.split('/')[-1]\n",
    "        move(fname, os.path.join(folder, 'test', name))\n",
    "    for fname in fnames[l_test:]:\n",
    "        name = fname.split('/')[-1]\n",
    "        move(fname, os.path.join(folder, 'train', name))"
   ]
  },
  {
   "cell_type": "code",
   "execution_count": 14,
   "metadata": {},
   "outputs": [],
   "source": [
    "test_train_split('rated_images/')"
   ]
  },
  {
   "cell_type": "code",
   "execution_count": null,
   "metadata": {},
   "outputs": [],
   "source": []
  }
 ],
 "metadata": {
  "kernelspec": {
   "display_name": "twit",
   "language": "python",
   "name": "twit"
  },
  "language_info": {
   "codemirror_mode": {
    "name": "ipython",
    "version": 3
   },
   "file_extension": ".py",
   "mimetype": "text/x-python",
   "name": "python",
   "nbconvert_exporter": "python",
   "pygments_lexer": "ipython3",
   "version": "3.8.11"
  }
 },
 "nbformat": 4,
 "nbformat_minor": 2
}
